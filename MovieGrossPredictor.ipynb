{
  "cells": [
    {
      "cell_type": "markdown",
      "metadata": {
        "id": "view-in-github",
        "colab_type": "text"
      },
      "source": [
        "<a href=\"https://colab.research.google.com/github/Mayuresh1611/ML-AI-projects/blob/main/MovieGrossPredictor.ipynb\" target=\"_parent\"><img src=\"https://colab.research.google.com/assets/colab-badge.svg\" alt=\"Open In Colab\"/></a>"
      ]
    },
    {
      "cell_type": "markdown",
      "source": [
        "# **Movie Box-Office Collection Predictor 🎥**\n",
        "\n",
        "In this project I have used Linear Regression to predict the Worldwide box-office collection of the moveis. The data used for this project contains 42380 movies ranging from 1940 to 2022."
      ],
      "metadata": {
        "id": "WCpo00_TxSdL"
      }
    },
    {
      "cell_type": "code",
      "execution_count": 2,
      "metadata": {
        "id": "8C4E17rfUqX7"
      },
      "outputs": [],
      "source": [
        "import pandas as pd\n",
        "import numpy as np"
      ]
    },
    {
      "cell_type": "markdown",
      "source": [
        "Importing required dataset"
      ],
      "metadata": {
        "id": "Uyl7667BDDg2"
      }
    },
    {
      "cell_type": "code",
      "execution_count": 3,
      "metadata": {
        "id": "rzFcZ_zcUeZR"
      },
      "outputs": [],
      "source": [
        "\n",
        "df = pd.read_csv('movie_statistic_dataset.csv',\n",
        "                 encoding='latin-1')"
      ]
    },
    {
      "cell_type": "markdown",
      "source": [
        "Dataset contains 4380 examples and 14 features. But we don't need every feature to train the model."
      ],
      "metadata": {
        "id": "BTQbzmUbDY7I"
      }
    },
    {
      "cell_type": "code",
      "source": [
        "df.info()"
      ],
      "metadata": {
        "id": "MvniklAdZJLp",
        "colab": {
          "base_uri": "https://localhost:8080/"
        },
        "outputId": "dbe8e154-0359-4cca-e100-20215da81d1c"
      },
      "execution_count": 4,
      "outputs": [
        {
          "output_type": "stream",
          "name": "stdout",
          "text": [
            "<class 'pandas.core.frame.DataFrame'>\n",
            "RangeIndex: 4380 entries, 0 to 4379\n",
            "Data columns (total 14 columns):\n",
            " #   Column                Non-Null Count  Dtype  \n",
            "---  ------                --------------  -----  \n",
            " 0   movie_title           4380 non-null   object \n",
            " 1   production_date       4380 non-null   object \n",
            " 2   genres                4380 non-null   object \n",
            " 3   runtime_minutes       4380 non-null   float64\n",
            " 4   director_name         4380 non-null   object \n",
            " 5   director_professions  4380 non-null   object \n",
            " 6   director_birthYear    4380 non-null   object \n",
            " 7   director_deathYear    4380 non-null   object \n",
            " 8   movie_averageRating   4380 non-null   float64\n",
            " 9   movie_numerOfVotes    4380 non-null   float64\n",
            " 10  approval_Index        4380 non-null   float64\n",
            " 11  Production budget $   4380 non-null   int64  \n",
            " 12  Domestic gross $      4380 non-null   int64  \n",
            " 13  Worldwide gross $     4380 non-null   int64  \n",
            "dtypes: float64(4), int64(3), object(7)\n",
            "memory usage: 479.2+ KB\n"
          ]
        }
      ]
    },
    {
      "cell_type": "markdown",
      "source": [
        "## Feature Selection\n",
        "We will use **Production budget, Movie rating and genres.** Other features are not so important. Although We can also include the director names but it would create lot of randomness in the data resulting in poor prediction for new directors.\n",
        "\n",
        "### Visualization of the data\n",
        "We visualize the data of production budget and rating. But visualizing the data alone will not help! We need to find the correation between the data."
      ],
      "metadata": {
        "id": "6Lzsd-RxESXs"
      }
    },
    {
      "cell_type": "code",
      "source": [
        "plt.scatter(df['movie_averageRating'], df['Production budget $'], c=df['Worldwide gross $'], cmap='viridis', alpha=0.6)\n",
        "plt.colorbar(label='Worldwide Gross $')  # Add colorbar with label\n",
        "plt.xlabel('Rating')\n",
        "plt.ylabel('Production Budget ($)')\n",
        "plt.title('Scatter Plot: Worldwide Gross vs Rating and Production Budget')\n",
        "plt.show()"
      ],
      "metadata": {
        "colab": {
          "base_uri": "https://localhost:8080/",
          "height": 256
        },
        "id": "ZWdMg7vNA2Bq",
        "outputId": "28072a6f-a422-4157-ef8f-6d3712e49e0a"
      },
      "execution_count": 5,
      "outputs": [
        {
          "output_type": "error",
          "ename": "NameError",
          "evalue": "name 'plt' is not defined",
          "traceback": [
            "\u001b[0;31m---------------------------------------------------------------------------\u001b[0m",
            "\u001b[0;31mNameError\u001b[0m                                 Traceback (most recent call last)",
            "\u001b[0;32m<ipython-input-5-bc617a6361b5>\u001b[0m in \u001b[0;36m<cell line: 1>\u001b[0;34m()\u001b[0m\n\u001b[0;32m----> 1\u001b[0;31m \u001b[0mplt\u001b[0m\u001b[0;34m.\u001b[0m\u001b[0mscatter\u001b[0m\u001b[0;34m(\u001b[0m\u001b[0mdf\u001b[0m\u001b[0;34m[\u001b[0m\u001b[0;34m'movie_averageRating'\u001b[0m\u001b[0;34m]\u001b[0m\u001b[0;34m,\u001b[0m \u001b[0mdf\u001b[0m\u001b[0;34m[\u001b[0m\u001b[0;34m'Production budget $'\u001b[0m\u001b[0;34m]\u001b[0m\u001b[0;34m,\u001b[0m \u001b[0mc\u001b[0m\u001b[0;34m=\u001b[0m\u001b[0mdf\u001b[0m\u001b[0;34m[\u001b[0m\u001b[0;34m'Worldwide gross $'\u001b[0m\u001b[0;34m]\u001b[0m\u001b[0;34m,\u001b[0m \u001b[0mcmap\u001b[0m\u001b[0;34m=\u001b[0m\u001b[0;34m'viridis'\u001b[0m\u001b[0;34m,\u001b[0m \u001b[0malpha\u001b[0m\u001b[0;34m=\u001b[0m\u001b[0;36m0.6\u001b[0m\u001b[0;34m)\u001b[0m\u001b[0;34m\u001b[0m\u001b[0;34m\u001b[0m\u001b[0m\n\u001b[0m\u001b[1;32m      2\u001b[0m \u001b[0mplt\u001b[0m\u001b[0;34m.\u001b[0m\u001b[0mcolorbar\u001b[0m\u001b[0;34m(\u001b[0m\u001b[0mlabel\u001b[0m\u001b[0;34m=\u001b[0m\u001b[0;34m'Worldwide Gross $'\u001b[0m\u001b[0;34m)\u001b[0m  \u001b[0;31m# Add colorbar with label\u001b[0m\u001b[0;34m\u001b[0m\u001b[0;34m\u001b[0m\u001b[0m\n\u001b[1;32m      3\u001b[0m \u001b[0mplt\u001b[0m\u001b[0;34m.\u001b[0m\u001b[0mxlabel\u001b[0m\u001b[0;34m(\u001b[0m\u001b[0;34m'Rating'\u001b[0m\u001b[0;34m)\u001b[0m\u001b[0;34m\u001b[0m\u001b[0;34m\u001b[0m\u001b[0m\n\u001b[1;32m      4\u001b[0m \u001b[0mplt\u001b[0m\u001b[0;34m.\u001b[0m\u001b[0mylabel\u001b[0m\u001b[0;34m(\u001b[0m\u001b[0;34m'Production Budget ($)'\u001b[0m\u001b[0;34m)\u001b[0m\u001b[0;34m\u001b[0m\u001b[0;34m\u001b[0m\u001b[0m\n\u001b[1;32m      5\u001b[0m \u001b[0mplt\u001b[0m\u001b[0;34m.\u001b[0m\u001b[0mtitle\u001b[0m\u001b[0;34m(\u001b[0m\u001b[0;34m'Scatter Plot: Worldwide Gross vs Rating and Production Budget'\u001b[0m\u001b[0;34m)\u001b[0m\u001b[0;34m\u001b[0m\u001b[0;34m\u001b[0m\u001b[0m\n",
            "\u001b[0;31mNameError\u001b[0m: name 'plt' is not defined"
          ]
        }
      ]
    },
    {
      "cell_type": "markdown",
      "source": [
        "We Check the correlation between the data using following function"
      ],
      "metadata": {
        "id": "6LrXZLzOFxWs"
      }
    },
    {
      "cell_type": "code",
      "source": [
        "def correlation(X, Y):\n",
        "    correlation_coefficient = np.corrcoef(X, Y)[0, 1]\n",
        "    print(correlation_coefficient)"
      ],
      "metadata": {
        "id": "lIQpfpAoF3jJ"
      },
      "execution_count": 6,
      "outputs": []
    },
    {
      "cell_type": "markdown",
      "source": [
        "Correlation of the rating and production budget to the worldwide gross as follows"
      ],
      "metadata": {
        "id": "q2u1Y57hGC6C"
      }
    },
    {
      "cell_type": "code",
      "source": [
        "correlation(df['Production budget $'], df['Worldwide gross $'])\n",
        "correlation(df['movie_averageRating'], df['Worldwide gross $'])"
      ],
      "metadata": {
        "colab": {
          "base_uri": "https://localhost:8080/"
        },
        "id": "pY8ZrUjLGPAZ",
        "outputId": "08c935dc-cc56-4cfb-f8e2-f8aa4cd32896"
      },
      "execution_count": 7,
      "outputs": [
        {
          "output_type": "stream",
          "name": "stdout",
          "text": [
            "0.7330837441109731\n",
            "0.22204523637747348\n"
          ]
        }
      ]
    },
    {
      "cell_type": "markdown",
      "source": [
        "Relation between the produciton budhet and gross collection is very strong compated to the rating.\n",
        "\n",
        "We Introduce new feature to increase the correlation of the data. We multiply rating and production budget. Which has strong relationship with the target data.\n"
      ],
      "metadata": {
        "id": "5y3FcbdQGoLs"
      }
    },
    {
      "cell_type": "code",
      "source": [
        "newFeature = pd.DataFrame({'ratingxproduction': df['movie_averageRating'] * df['Production budget $'] })\n",
        "correlation(newFeature['ratingxproduction'], df['Worldwide gross $'])"
      ],
      "metadata": {
        "colab": {
          "base_uri": "https://localhost:8080/"
        },
        "id": "9Qx6Cx3iH7q8",
        "outputId": "6509d1ac-663a-439a-bcdb-5beef8067065"
      },
      "execution_count": 8,
      "outputs": [
        {
          "output_type": "stream",
          "name": "stdout",
          "text": [
            "0.7744465306268935\n"
          ]
        }
      ]
    },
    {
      "cell_type": "markdown",
      "source": [
        "We insert this feature into the dataset for training purpose."
      ],
      "metadata": {
        "id": "SEcT3n9NIAxm"
      }
    },
    {
      "cell_type": "code",
      "source": [
        "df.insert(4 , column=\"rating x production\" , value = newFeature)"
      ],
      "metadata": {
        "id": "EWNEE7SAIdNt"
      },
      "execution_count": 9,
      "outputs": []
    },
    {
      "cell_type": "markdown",
      "source": [
        "## Feture Encoding\n",
        "\n",
        "We first seperate each genre from the 3 genres combined together in string object. Then we store these in the set to avoid storing duplicates. Then we turn the set into list to get access of their index.  "
      ],
      "metadata": {
        "id": "nzQS_XyhKEb4"
      }
    },
    {
      "cell_type": "code",
      "execution_count": 10,
      "metadata": {
        "id": "lPIabqcrW1w_"
      },
      "outputs": [],
      "source": [
        "UnfilteredGenres = list(set(df['genres'].unique()))\n",
        "genres = set()\n",
        "for i in range(len(UnfilteredGenres)):\n",
        "  lis = UnfilteredGenres[i].split(\",\")\n",
        "  for j in lis:\n",
        "    genres.add(j)\n"
      ]
    },
    {
      "cell_type": "code",
      "execution_count": 11,
      "metadata": {
        "id": "Jq5EnwU5c7mo",
        "colab": {
          "base_uri": "https://localhost:8080/"
        },
        "outputId": "5a9c0d88-88ea-435b-acf9-e6443807a1ee"
      },
      "outputs": [
        {
          "output_type": "stream",
          "name": "stdout",
          "text": [
            "['Western', 'Fantasy', 'War', 'Documentary', 'Drama', 'Horror', 'Animation', 'Romance', 'Adventure', 'Crime', 'Comedy', 'Film-Noir', 'History', '\\\\N', 'Sci-Fi', 'Biography', 'Family', 'Thriller', 'Sport', 'Music', 'Action', 'Mystery', 'Musical', 'News']\n"
          ]
        }
      ],
      "source": [
        "print(list(genres))\n",
        "genres = list(genres)"
      ]
    },
    {
      "cell_type": "markdown",
      "source": [
        "After genreating such list we now add up the ith positione of that genre from the list to get combinations of the genre specified in the data example."
      ],
      "metadata": {
        "id": "ybcP2IslK0Sk"
      }
    },
    {
      "cell_type": "code",
      "execution_count": 12,
      "metadata": {
        "colab": {
          "base_uri": "https://localhost:8080/"
        },
        "id": "E_e_ZWk4eOt-",
        "outputId": "16990ca3-68a8-41ff-b60a-dc43cad447e8"
      },
      "outputs": [
        {
          "output_type": "stream",
          "name": "stdout",
          "text": [
            "[32, 35, 32, 45, 45, 32, 48, 45, 45, 45, 21, 27, 45, 36, 41, 47, 2, 11, 49, 48, 32, 45, 26, 32, 52, 36, 45, 47, 31, 45, 45, 45, 45, 41, 45, 45, 45, 35, 35, 28, 54, 32, 45, 13, 37, 45, 27, 27, 27, 32, 45, 45, 36, 28, 25, 48, 2, 27, 28, 45, 45, 27, 45, 48, 49, 45, 32, 45, 32, 28, 45, 37, 41, 45, 28, 27, 32, 45, 32, 32, 49, 45, 36, 13, 45, 36, 27, 45, 36, 30, 27, 32, 45, 28, 48, 45, 41, 37, 41, 28, 28, 42, 35, 31, 32, 45, 45, 42, 45, 45, 31, 27, 45, 32, 27, 27, 6, 37, 27, 45, 47, 32, 30, 45, 37, 35, 28, 26, 45, 41, 36, 45, 35, 27, 35, 36, 32, 28, 32, 47, 45, 28, 45, 27, 32, 37, 37, 27, 29, 35, 45, 28, 32, 27, 45, 45, 45, 36, 15, 47, 48, 32, 39, 54, 32, 42, 35, 39, 45, 27, 32, 27, 27, 47, 28, 36, 27, 28, 32, 37, 27, 32, 36, 39, 23, 27, 36, 37, 37, 45, 36, 45, 27, 48, 61, 5, 47, 27, 37, 27, 35, 32, 37, 19, 44, 27, 13, 32, 4, 41, 37, 45, 37, 27, 37, 27, 27, 37, 41, 34, 48, 45, 45, 45, 37, 49, 45, 26, 35, 28, 45, 32, 45, 48, 45, 45, 36, 37, 27, 35, 37, 35, 27, 41, 27, 40, 37, 28, 45, 27, 45, 28, 61, 41, 37, 47, 27, 37, 27, 39, 42, 27, 39, 35, 37, 45, 22, 41, 37, 21, 41, 37, 45, 41, 40, 49, 41, 52, 45, 27, 32, 27, 54, 46, 48, 36, 48, 31, 45, 41, 43, 30, 35, 39, 30, 32, 16, 41, 45, 41, 41, 45, 32, 27, 46, 45, 41, 54, 41, 45, 27, 36, 29, 37, 27, 41, 38, 37, 48, 27, 39, 45, 28, 48, 39, 26, 21, 28, 42, 41, 41, 48, 27, 49, 45, 27, 40, 35, 36, 41, 29, 26, 40, 29, 34, 58, 37, 27, 27, 45, 19, 41, 49, 35, 28, 47, 48, 53, 45, 42, 28, 36, 30, 45, 52, 6, 29, 19, 50, 31, 27, 42, 37, 37, 49, 29, 7, 27, 48, 31, 47, 32, 11, 39, 29, 37, 32, 32, 39, 37, 41, 28, 27, 33, 48, 38, 33, 44, 54, 40, 33, 46, 41, 30, 32, 32, 39, 47, 27, 35, 32, 15, 39, 31, 2, 27, 39, 24, 28, 11, 39, 45, 27, 25, 34, 32, 27, 35, 35, 32, 35, 45, 41, 35, 37, 39, 21, 41, 25, 41, 41, 27, 42, 52, 27, 41, 33, 27, 33, 41, 27, 35, 37, 42, 31, 27, 37, 36, 34, 30, 42, 50, 28, 41, 49, 38, 42, 32, 20, 35, 41, 37, 36, 36, 32, 32, 11, 29, 48, 29, 45, 32, 33, 37, 50, 22, 27, 28, 61, 44, 27, 49, 41, 52, 27, 41, 27, 39, 28, 39, 27, 42, 37, 25, 19, 49, 13, 29, 41, 41, 27, 48, 15, 37, 44, 42, 46, 37, 45, 44, 37, 34, 42, 18, 45, 32, 40, 48, 58, 13, 45, 27, 11, 48, 37, 27, 33, 27, 32, 27, 27, 41, 11, 27, 41, 27, 40, 24, 24, 46, 37, 33, 31, 61, 49, 27, 22, 35, 43, 30, 27, 29, 27, 30, 30, 29, 61, 21, 49, 42, 21, 36, 45, 15, 47, 36, 38, 13, 54, 26, 41, 26, 27, 36, 35, 32, 35, 27, 36, 45, 25, 35, 54, 33, 29, 36, 21, 41, 11, 21, 27, 33, 46, 32, 46, 21, 49, 27, 49, 41, 27, 27, 45, 35, 27, 45, 27, 27, 11, 27, 45, 49, 48, 22, 24, 39, 50, 48, 25, 41, 28, 24, 29, 36, 35, 35, 26, 27, 41, 31, 39, 40, 44, 29, 24, 26, 26, 35, 32, 36, 33, 40, 42, 37, 35, 41, 49, 39, 42, 20, 27, 27, 41, 42, 30, 37, 50, 58, 27, 16, 44, 30, 34, 24, 45, 13, 31, 45, 30, 42, 27, 27, 27, 19, 48, 49, 17, 37, 39, 40, 30, 32, 27, 39, 27, 35, 39, 29, 27, 45, 16, 19, 29, 37, 28, 35, 6, 36, 16, 39, 28, 39, 30, 52, 36, 41, 50, 42, 39, 39, 49, 36, 8, 55, 32, 54, 53, 37, 49, 45, 27, 11, 44, 35, 43, 44, 11, 36, 19, 42, 26, 34, 39, 22, 45, 44, 29, 49, 36, 43, 39, 32, 39, 8, 21, 34, 27, 36, 27, 27, 30, 45, 42, 16, 11, 37, 41, 48, 33, 48, 48, 36, 30, 5, 11, 27, 45, 40, 26, 42, 26, 24, 46, 42, 37, 16, 5, 54, 36, 44, 28, 5, 40, 37, 38, 41, 49, 36, 21, 15, 21, 27, 35, 17, 45, 41, 27, 39, 46, 36, 24, 24, 37, 38, 42, 45, 45, 39, 45, 19, 37, 41, 22, 17, 16, 21, 61, 11, 49, 28, 21, 36, 41, 19, 27, 32, 21, 45, 37, 29, 61, 36, 18, 23, 24, 14, 29, 44, 45, 19, 41, 29, 39, 26, 30, 37, 32, 36, 42, 49, 5, 21, 27, 36, 58, 13, 27, 27, 47, 44, 48, 32, 42, 44, 18, 36, 27, 34, 11, 44, 45, 32, 27, 29, 50, 42, 37, 43, 49, 24, 29, 43, 36, 25, 42, 21, 41, 32, 26, 29, 29, 27, 39, 27, 33, 45, 37, 33, 44, 32, 39, 39, 16, 37, 33, 29, 27, 41, 27, 22, 36, 27, 47, 32, 42, 22, 48, 24, 39, 18, 11, 36, 24, 39, 24, 24, 42, 42, 33, 25, 11, 37, 31, 33, 13, 27, 41, 19, 19, 21, 21, 45, 34, 31, 47, 11, 37, 49, 31, 30, 29, 24, 44, 45, 23, 15, 37, 45, 11, 42, 19, 41, 48, 27, 32, 36, 30, 34, 37, 32, 49, 48, 5, 32, 31, 26, 36, 23, 30, 20, 33, 27, 36, 41, 45, 34, 33, 34, 39, 23, 41, 32, 28, 19, 5, 24, 29, 49, 11, 36, 31, 21, 28, 35, 45, 24, 36, 42, 24, 19, 15, 13, 21, 32, 34, 11, 35, 28, 41, 16, 27, 11, 42, 35, 24, 32, 42, 11, 58, 19, 21, 45, 30, 19, 33, 19, 61, 16, 19, 37, 27, 34, 36, 52, 58, 28, 33, 40, 28, 44, 39, 47, 42, 16, 41, 27, 11, 29, 31, 42, 23, 42, 27, 36, 49, 45, 29, 35, 15, 28, 27, 49, 30, 36, 37, 42, 19, 39, 37, 22, 48, 39, 24, 42, 32, 33, 28, 26, 15, 50, 49, 6, 41, 24, 24, 35, 36, 49, 36, 36, 45, 37, 31, 41, 37, 32, 41, 45, 42, 54, 21, 33, 15, 40, 33, 40, 30, 47, 34, 33, 14, 47, 33, 33, 26, 27, 15, 36, 21, 26, 27, 48, 28, 15, 5, 37, 41, 54, 36, 41, 13, 30, 28, 33, 33, 38, 36, 16, 37, 41, 30, 41, 36, 42, 13, 26, 35, 48, 31, 42, 42, 34, 13, 32, 35, 28, 19, 18, 24, 19, 35, 27, 45, 37, 48, 13, 49, 30, 11, 42, 31, 47, 37, 36, 25, 37, 37, 39, 19, 36, 37, 35, 17, 42, 40, 40, 23, 36, 41, 21, 36, 24, 18, 44, 11, 24, 35, 42, 30, 36, 37, 19, 30, 19, 44, 24, 49, 13, 27, 41, 45, 37, 20, 13, 45, 31, 42, 27, 34, 37, 39, 41, 47, 37, 14, 49, 34, 46, 16, 36, 32, 41, 29, 39, 13, 30, 39, 39, 36, 48, 33, 15, 33, 41, 15, 42, 5, 16, 19, 33, 31, 49, 45, 42, 24, 13, 27, 19, 24, 34, 41, 51, 37, 24, 30, 33, 48, 43, 42, 36, 15, 37, 24, 49, 24, 32, 25, 44, 24, 34, 11, 45, 19, 43, 31, 26, 24, 15, 28, 54, 42, 35, 37, 33, 35, 21, 29, 24, 42, 11, 21, 28, 35, 39, 11, 19, 31, 33, 16, 35, 41, 28, 36, 36, 19, 18, 36, 21, 39, 34, 30, 24, 46, 18, 61, 31, 46, 44, 37, 40, 41, 32, 21, 35, 42, 15, 45, 33, 48, 35, 39, 29, 45, 33, 41, 19, 33, 22, 34, 24, 33, 24, 19, 39, 13, 35, 16, 44, 37, 61, 16, 41, 29, 41, 19, 42, 36, 40, 48, 24, 31, 19, 40, 35, 21, 36, 11, 27, 39, 49, 38, 42, 34, 21, 13, 24, 32, 16, 27, 37, 13, 40, 42, 27, 42, 5, 37, 38, 27, 18, 24, 28, 34, 39, 36, 33, 32, 41, 34, 30, 32, 38, 5, 24, 38, 36, 40, 49, 11, 23, 35, 26, 40, 26, 5, 48, 22, 41, 33, 18, 41, 27, 25, 19, 41, 19, 23, 11, 45, 50, 29, 49, 19, 19, 52, 37, 42, 11, 13, 24, 40, 45, 29, 33, 45, 54, 42, 13, 16, 42, 33, 42, 37, 43, 25, 35, 36, 14, 31, 50, 6, 35, 24, 5, 40, 15, 45, 33, 22, 41, 26, 25, 42, 33, 27, 5, 24, 42, 48, 26, 37, 22, 50, 35, 13, 36, 40, 35, 18, 38, 32, 24, 11, 6, 11, 40, 30, 41, 6, 49, 42, 26, 16, 21, 41, 24, 32, 46, 28, 28, 16, 28, 19, 37, 49, 19, 21, 31, 42, 30, 38, 35, 19, 11, 37, 40, 36, 28, 34, 24, 39, 19, 19, 31, 36, 42, 39, 24, 31, 54, 19, 29, 13, 39, 42, 40, 39, 13, 41, 22, 41, 24, 46, 46, 28, 32, 13, 50, 42, 61, 24, 45, 47, 24, 53, 24, 37, 36, 31, 32, 30, 49, 13, 49, 36, 27, 16, 17, 31, 35, 28, 49, 38, 42, 37, 44, 7, 22, 38, 41, 5, 34, 36, 49, 53, 16, 28, 30, 35, 34, 36, 46, 24, 41, 33, 37, 32, 34, 5, 24, 37, 11, 49, 33, 36, 36, 58, 24, 13, 35, 41, 38, 30, 34, 23, 42, 49, 19, 33, 40, 36, 37, 36, 39, 49, 54, 24, 32, 19, 13, 24, 19, 37, 15, 37, 47, 18, 36, 48, 6, 21, 19, 42, 39, 50, 35, 21, 36, 11, 47, 19, 37, 19, 54, 28, 30, 35, 5, 35, 30, 40, 23, 45, 30, 20, 35, 37, 27, 5, 39, 34, 27, 24, 44, 16, 11, 13, 48, 48, 40, 54, 30, 13, 30, 36, 21, 11, 24, 37, 37, 11, 13, 33, 19, 27, 13, 36, 16, 41, 25, 5, 27, 13, 33, 24, 24, 45, 26, 19, 13, 19, 42, 21, 24, 29, 16, 11, 25, 31, 13, 36, 32, 39, 30, 21, 35, 48, 35, 25, 36, 36, 8, 8, 36, 28, 49, 40, 15, 33, 33, 18, 35, 32, 36, 40, 24, 31, 42, 13, 54, 39, 26, 39, 32, 24, 11, 18, 25, 36, 16, 21, 37, 37, 40, 41, 24, 27, 24, 11, 15, 46, 5, 35, 34, 24, 42, 36, 36, 39, 24, 42, 33, 28, 49, 26, 36, 5, 17, 21, 27, 41, 40, 39, 41, 33, 37, 30, 28, 19, 39, 35, 34, 13, 40, 25, 45, 36, 36, 32, 24, 30, 28, 5, 39, 22, 36, 41, 15, 41, 21, 5, 33, 38, 13, 14, 34, 29, 11, 41, 36, 47, 36, 37, 49, 31, 41, 11, 11, 55, 49, 21, 24, 42, 32, 11, 34, 35, 19, 37, 44, 32, 34, 42, 16, 29, 27, 30, 34, 25, 27, 39, 29, 23, 11, 31, 32, 37, 11, 34, 16, 19, 27, 48, 32, 16, 40, 19, 42, 11, 46, 30, 24, 13, 35, 42, 29, 41, 30, 44, 42, 36, 36, 49, 49, 21, 29, 32, 34, 35, 30, 34, 32, 19, 48, 36, 27, 23, 23, 23, 33, 45, 46, 37, 41, 34, 24, 37, 24, 38, 33, 30, 39, 34, 36, 28, 36, 38, 33, 15, 16, 23, 28, 42, 30, 29, 42, 42, 5, 24, 26, 34, 18, 21, 42, 24, 30, 24, 29, 31, 41, 36, 26, 13, 41, 26, 35, 50, 19, 37, 43, 34, 31, 36, 26, 26, 35, 32, 5, 16, 5, 5, 34, 5, 49, 42, 46, 11, 37, 11, 24, 27, 24, 37, 36, 35, 28, 33, 33, 24, 13, 19, 36, 35, 34, 49, 13, 24, 38, 28, 49, 11, 41, 31, 28, 15, 34, 13, 4, 28, 13, 42, 5, 27, 24, 32, 16, 49, 40, 11, 31, 33, 6, 39, 19, 36, 33, 35, 11, 25, 36, 11, 34, 39, 24, 5, 33, 52, 41, 30, 33, 41, 36, 49, 24, 24, 35, 24, 16, 33, 37, 42, 33, 37, 34, 5, 49, 31, 40, 45, 24, 46, 24, 39, 21, 30, 45, 21, 32, 2, 34, 49, 41, 39, 8, 21, 35, 44, 45, 35, 24, 36, 45, 7, 21, 5, 42, 11, 42, 19, 40, 37, 47, 21, 40, 45, 33, 16, 26, 31, 15, 27, 13, 6, 50, 40, 22, 32, 35, 41, 28, 35, 35, 46, 11, 45, 19, 5, 21, 36, 21, 49, 18, 46, 49, 24, 14, 19, 42, 21, 26, 17, 36, 36, 28, 19, 30, 34, 19, 36, 41, 47, 38, 30, 32, 21, 42, 11, 24, 15, 23, 42, 15, 19, 61, 16, 5, 26, 24, 21, 5, 19, 32, 13, 36, 37, 36, 31, 45, 35, 30, 23, 21, 15, 19, 33, 46, 47, 41, 13, 34, 26, 16, 34, 41, 36, 28, 5, 42, 33, 37, 16, 38, 11, 29, 36, 11, 37, 39, 49, 5, 35, 29, 23, 37, 39, 35, 31, 37, 11, 33, 36, 46, 36, 21, 39, 45, 23, 32, 37, 36, 20, 39, 24, 16, 46, 20, 48, 16, 41, 35, 5, 31, 21, 49, 49, 45, 45, 19, 26, 16, 25, 13, 5, 26, 24, 26, 43, 34, 39, 26, 46, 30, 20, 42, 36, 46, 11, 22, 33, 31, 36, 11, 26, 33, 25, 24, 19, 20, 37, 16, 31, 37, 24, 31, 32, 21, 31, 25, 24, 33, 24, 7, 34, 36, 13, 21, 16, 15, 43, 13, 37, 19, 27, 29, 33, 27, 31, 5, 23, 32, 31, 24, 46, 27, 22, 33, 24, 40, 32, 24, 22, 24, 39, 17, 36, 41, 36, 28, 5, 27, 32, 45, 17, 19, 37, 39, 6, 33, 37, 40, 36, 35, 28, 33, 49, 47, 37, 19, 38, 27, 21, 13, 32, 21, 5, 37, 30, 11, 46, 35, 26, 45, 36, 37, 5, 19, 16, 11, 25, 30, 33, 27, 11, 34, 24, 34, 48, 33, 46, 33, 49, 5, 36, 19, 34, 19, 37, 27, 54, 26, 19, 26, 16, 11, 34, 21, 18, 4, 31, 49, 13, 16, 36, 49, 13, 49, 11, 36, 11, 19, 21, 42, 36, 39, 24, 14, 43, 25, 11, 42, 42, 26, 41, 49, 36, 27, 27, 13, 29, 20, 21, 40, 36, 29, 28, 33, 42, 29, 40, 29, 26, 21, 39, 5, 13, 40, 50, 31, 41, 8, 23, 42, 37, 13, 37, 37, 35, 18, 5, 24, 15, 13, 39, 35, 15, 11, 19, 27, 37, 19, 36, 11, 18, 15, 31, 24, 19, 13, 8, 37, 25, 52, 19, 39, 24, 5, 11, 21, 39, 35, 6, 21, 25, 45, 11, 11, 42, 18, 19, 11, 45, 29, 19, 16, 24, 26, 36, 19, 31, 20, 28, 41, 33, 37, 6, 38, 24, 30, 16, 18, 38, 16, 16, 16, 39, 33, 28, 32, 36, 34, 24, 32, 21, 19, 26, 40, 13, 36, 29, 38, 33, 42, 21, 33, 27, 41, 21, 5, 24, 19, 37, 34, 31, 39, 5, 24, 20, 32, 32, 49, 36, 5, 34, 42, 5, 20, 19, 42, 36, 36, 5, 37, 39, 43, 32, 29, 11, 14, 34, 11, 42, 26, 46, 5, 46, 45, 28, 45, 24, 16, 46, 39, 6, 38, 40, 42, 24, 24, 36, 19, 39, 15, 45, 11, 11, 26, 24, 33, 19, 45, 46, 37, 35, 19, 31, 36, 24, 29, 30, 38, 31, 21, 26, 7, 33, 15, 13, 29, 29, 15, 24, 16, 11, 5, 24, 33, 24, 18, 46, 37, 24, 29, 33, 34, 42, 31, 23, 36, 25, 16, 54, 24, 42, 24, 13, 5, 17, 43, 11, 24, 38, 11, 26, 16, 55, 11, 41, 32, 40, 19, 36, 40, 5, 6, 37, 40, 26, 16, 25, 24, 24, 8, 13, 32, 28, 42, 26, 24, 5, 35, 21, 28, 46, 11, 21, 5, 39, 13, 14, 33, 26, 14, 49, 33, 16, 23, 6, 21, 24, 13, 30, 8, 37, 24, 37, 33, 16, 44, 37, 18, 40, 43, 11, 30, 30, 29, 26, 36, 5, 32, 19, 24, 24, 33, 19, 28, 24, 29, 38, 47, 48, 36, 42, 32, 24, 17, 5, 33, 36, 39, 13, 31, 13, 34, 28, 31, 42, 13, 25, 24, 37, 43, 21, 33, 16, 21, 42, 36, 33, 11, 13, 41, 24, 32, 21, 38, 28, 36, 11, 25, 31, 24, 24, 13, 60, 20, 46, 34, 33, 40, 24, 24, 37, 21, 26, 45, 36, 31, 19, 19, 8, 19, 38, 13, 24, 34, 28, 29, 33, 37, 26, 16, 5, 23, 39, 44, 36, 18, 18, 36, 6, 19, 23, 23, 24, 37, 33, 46, 46, 48, 48, 8, 21, 46, 5, 14, 13, 19, 19, 13, 27, 42, 6, 19, 19, 19, 45, 8, 11, 19, 48, 16, 24, 48, 13, 34, 41, 13, 45, 16, 13, 34, 34, 46, 34, 24, 43, 5, 44, 13, 19, 41, 31, 31, 43, 21, 21, 15, 35, 21, 24, 23, 33, 24, 42, 38, 37, 38, 32, 46, 6, 24, 19, 48, 22, 16, 41, 24, 11, 42, 38, 42, 24, 33, 39, 18, 19, 24, 5, 25, 23, 34, 35, 16, 11, 41, 19, 39, 11, 23, 28, 24, 36, 26, 24, 37, 21, 31, 41, 4, 45, 4, 14, 21, 33, 23, 33, 41, 49, 21, 5, 23, 28, 37, 26, 20, 31, 24, 38, 37, 15, 37, 21, 27, 6, 13, 11, 19, 41, 45, 16, 41, 11, 48, 31, 35, 41, 27, 24, 11, 26, 21, 19, 33, 36, 20, 32, 22, 24, 25, 39, 13, 23, 28, 11, 13, 30, 49, 33, 33, 29, 19, 15, 40, 11, 39, 42, 20, 39, 38, 46, 29, 42, 16, 30, 5, 11, 38, 16, 33, 18, 13, 13, 24, 13, 23, 29, 13, 35, 41, 11, 31, 41, 23, 27, 21, 21, 11, 16, 42, 21, 16, 40, 24, 16, 16, 23, 28, 31, 31, 24, 5, 21, 16, 33, 11, 29, 5, 17, 33, 13, 26, 11, 19, 16, 42, 33, 5, 21, 27, 30, 13, 15, 13, 13, 5, 37, 34, 47, 32, 46, 21, 21, 17, 36, 30, 11, 11, 25, 29, 19, 5, 21, 45, 19, 34, 15, 13, 24, 18, 22, 41, 24, 34, 13, 24, 21, 19, 19, 30, 41, 24, 24, 16, 14, 21, 24, 26, 34, 13, 46, 14, 38, 42, 24, 46, 19, 38, 24, 33, 24, 33, 16, 33, 24, 39, 30, 38, 28, 45, 27, 45, 46, 48, 13, 46, 16, 24, 37, 16, 21, 36, 16, 25, 46, 16, 21, 39, 23, 21, 42, 23, 19, 46, 46, 13, 43, 15, 19, 25, 15, 54, 32, 46, 26, 39, 46, 36, 21, 28, 33, 39, 36, 37, 24, 17, 36, 33, 32, 34, 33, 24, 27, 49, 11, 21, 31, 38, 27, 35, 33, 39, 13, 13, 19, 11, 26, 37, 34, 24, 39, 36, 37, 37, 32, 21, 16, 25, 46, 33, 11, 36, 24, 5, 15, 21, 26, 26, 32, 32, 30, 41, 36, 31, 13, 21, 4, 32, 5, 37, 21, 13, 44, 32, 11, 41, 36, 49, 13, 5, 29, 22, 45, 34, 39, 5, 33, 37, 11, 40, 19, 50, 16, 16, 42, 16, 21, 5, 14, 5, 16, 39, 16, 24, 16, 45, 19, 11, 46, 37, 24, 5, 34, 11, 48, 24, 42, 41, 35, 41, 16, 20, 18, 13, 13, 23, 34, 33, 16, 45, 42, 48, 36, 46, 46, 36, 33, 24, 39, 33, 9, 24, 20, 23, 33, 6, 16, 21, 41, 19, 24, 33, 34, 29, 16, 19, 36, 31, 16, 11, 16, 40, 32, 52, 36, 39, 25, 24, 15, 5, 22, 23, 36, 41, 37, 5, 33, 37, 19, 33, 17, 37, 33, 19, 35, 19, 39, 29, 33, 36, 44, 24, 36, 32, 38, 33, 15, 43, 37, 21, 16, 24, 14, 47, 25, 24, 24, 36, 36, 13, 19, 46, 28, 48, 24, 26, 19, 22, 24, 24, 21, 19, 21, 45, 13, 33, 24, 11, 24, 24, 8, 19, 21, 42, 16, 42, 21, 32, 36, 16, 29, 14, 15, 44, 50, 13, 16, 42, 28, 38, 33, 26, 37, 24, 16, 6, 5, 29, 37, 13, 16, 24, 21, 13, 13, 24, 36, 13, 33, 28, 48, 32, 16, 15, 16, 33, 38, 44, 33, 13, 33, 16, 48, 33, 30, 24, 31, 13, 30, 49, 45, 5, 28, 16, 48, 42, 34, 30, 28, 11, 33, 34, 33, 6, 36, 16, 23, 5, 38, 24, 24, 21, 30, 16, 37, 30, 37, 24, 45, 24, 22, 31, 42, 24, 22, 22, 11, 22, 29, 26, 11, 28, 6, 29, 11, 27, 16, 46, 15, 41, 16, 37, 24, 25, 27, 24, 55, 39, 21, 5, 33, 16, 13, 36, 40, 41, 40, 5, 25, 19, 42, 8, 13, 12, 31, 30, 39, 38, 37, 30, 38, 24, 24, 16, 45, 24, 37, 45, 11, 14, 21, 11, 34, 31, 30, 46, 39, 28, 24, 16, 18, 21, 24, 35, 32, 35, 21, 24, 34, 12, 39, 11, 36, 19, 18, 16, 36, 24, 37, 26, 36, 18, 27, 24, 26, 28, 18, 29, 23, 32, 31, 5, 23, 13, 8, 33, 29, 11, 39, 24, 24, 21, 42, 23, 40, 13, 23, 40, 26, 40, 24, 41, 24, 30, 28, 24, 24, 34, 16, 29, 26, 37, 16, 33, 26, 20, 26, 19, 34, 36, 15, 24, 46, 28, 28, 28, 37, 46, 4, 39, 28, 46, 45, 24, 43, 26, 41, 31, 28, 31, 21, 39, 21, 43, 16, 6, 11, 16, 25, 16, 46, 5, 36, 27, 40, 21, 24, 43, 30, 31, 30, 24, 5, 5, 49, 33, 33, 17, 29, 28, 28, 16, 29, 36, 11, 26, 32, 13, 46, 35, 19, 37, 16, 22, 29, 45, 34, 4, 26, 16, 16, 26, 42, 5, 24, 47, 11, 5, 16, 24, 46, 24, 11, 31, 24, 31, 5, 31, 24, 26, 8, 23, 15, 4, 42, 31, 24, 26, 23, 15, 34, 17, 13, 28, 21, 31, 36, 29, 43, 36, 15, 5, 5, 36, 26, 17, 30, 16, 31, 11, 24, 22, 46, 16, 16, 5, 26, 14, 28, 28, 5, 31, 36, 42, 31, 26, 36, 40, 5, 11, 16, 6, 15, 33, 23, 16, 19, 18, 30, 13, 13, 5, 29, 21, 24, 11, 19, 16, 24, 24, 13, 32, 42, 21, 27, 29, 23, 11, 11, 5, 39, 13, 14, 21, 21, 24, 23, 21, 11, 24, 4, 23, 11, 29, 13, 16, 37, 32, 7, 42, 5, 35, 39, 41, 24, 11, 15, 29, 24, 16, 16, 34, 22, 5, 13, 42, 26, 35, 24, 43, 24, 37, 5, 40, 11, 19, 16, 24, 24, 33, 16, 13, 13, 33, 39, 36, 8, 31, 5, 18, 37, 24, 46, 21, 17, 24, 41, 5, 38, 5, 22, 47, 51, 23, 16, 11, 5, 25, 37, 28, 36, 13, 11, 18, 6, 15, 24, 5, 11, 28, 5, 39, 48, 46, 15, 17, 16, 31, 11, 33, 19, 14, 24, 24, 16, 5, 45, 26, 35, 21, 24, 26, 31, 54, 36, 11, 5, 42, 8, 15, 6, 37, 13, 13, 45, 29, 5, 4, 11, 5, 16, 27, 4, 5, 18, 19, 16, 42, 29, 30, 13, 42, 39, 21, 5, 16, 23, 17, 44, 33, 48, 38, 16, 6, 19, 19, 33, 23, 6, 11, 11, 35, 26, 16, 4, 11, 28, 35, 24, 13, 43, 28, 45, 5, 8, 28, 15, 12, 13, 36, 42, 47, 19, 15, 24, 36, 6, 18, 36, 6, 13, 5, 13, 25, 26, 8, 28, 13, 4, 16, 4, 27, 41, 27, 35, 34, 5, 45, 33, 5, 24, 38, 27, 26, 36, 5, 5, 16, 31, 36, 5, 25, 45, 26, 16, 31, 23, 33, 13, 24, 46, 16, 4, 32, 5, 5, 13, 23, 5, 18, 14, 48, 16, 33, 5, 47, 19, 36, 33, 27, 24, 9, 31, 24, 17, 28, 33, 16, 32, 18, 5, 41, 4, 27, 21, 5, 24, 24, 23, 36, 45, 15, 30, 7, 5, 25, 46, 28, 6, 16, 36, 5, 5, 18, 24, 15, 36, 25, 29, 16, 16, 6, 45, 33, 13, 23, 19, 5, 24, 58, 42, 33, 5, 16, 42, 5, 19, 24, 42, 24, 5, 33, 24, 22, 5, 11, 33, 24, 5, 4, 33, 1, 5, 22, 33, 16, 5, 5, 11, 39, 46, 17, 21, 24, 30, 46, 5, 5, 27, 33, 20, 24, 28, 17, 40, 31, 16, 11, 24, 24, 26, 9, 16, 16, 16, 24, 6, 33, 28, 46, 6, 24, 46, 33, 13, 36, 36, 46, 34, 32, 40, 24, 24, 24, 45, 16, 15, 19, 24, 4, 24, 19, 5, 37, 25, 26, 23, 15, 26, 13, 41, 33, 35, 24, 16, 5, 16, 26, 37, 5, 21, 34, 8, 16, 26, 19, 24, 33, 31, 17, 16, 5, 28, 24, 33, 21, 40, 22, 26, 13, 23, 24, 37, 16, 15, 25, 5, 34, 24, 28, 24, 5, 15, 5, 30, 6, 13, 42, 28, 37, 11, 36, 40, 11, 34, 4, 23, 46, 13, 34, 21, 41, 16, 4, 39, 24, 4, 25, 38, 5, 15, 24, 22, 23, 36, 11, 4, 5, 41, 45, 16, 13, 5, 36, 24, 11, 22, 41, 4, 5, 16, 24, 36, 21, 37, 23, 24, 19, 16, 5, 16, 5, 5, 5, 29, 18, 25, 28, 46, 24, 6, 13, 24, 24, 31, 4, 23, 23, 5, 16, 4, 5, 21, 16, 45, 45, 16, 29, 31, 33, 4, 5, 22, 38, 36, 24, 24, 5, 23, 13, 42, 16, 19, 28, 4, 21, 22, 33, 24, 4, 26, 24, 8, 11, 46, 26, 8, 11, 15, 16, 15, 34, 16, 33, 6, 4, 24, 13, 24, 4] 4380\n"
          ]
        }
      ],
      "source": [
        "GenreData = list(df['genres'])\n",
        "FilteredGenres = []\n",
        "\n",
        "for data in GenreData:\n",
        "  sum = 0\n",
        "  categories = data.split(\",\")\n",
        "  for j in categories:\n",
        "    sum += genres.index(j) + 1\n",
        "  FilteredGenres.append(sum)\n",
        "\n",
        "print(FilteredGenres , len(FilteredGenres))\n",
        "\n",
        "df[\"genres\"] = pd.DataFrame(FilteredGenres)"
      ]
    },
    {
      "cell_type": "markdown",
      "source": [
        "Thus we replace the old genre data to new Encoded form of the data."
      ],
      "metadata": {
        "id": "qVOLQAEhLRAN"
      }
    },
    {
      "cell_type": "code",
      "source": [
        "df.info()"
      ],
      "metadata": {
        "colab": {
          "base_uri": "https://localhost:8080/"
        },
        "id": "Dfb_F1br4-3q",
        "outputId": "796d505e-db1c-4731-ce6c-6bc4da43cc0c"
      },
      "execution_count": 13,
      "outputs": [
        {
          "output_type": "stream",
          "name": "stdout",
          "text": [
            "<class 'pandas.core.frame.DataFrame'>\n",
            "RangeIndex: 4380 entries, 0 to 4379\n",
            "Data columns (total 15 columns):\n",
            " #   Column                Non-Null Count  Dtype  \n",
            "---  ------                --------------  -----  \n",
            " 0   movie_title           4380 non-null   object \n",
            " 1   production_date       4380 non-null   object \n",
            " 2   genres                4380 non-null   int64  \n",
            " 3   runtime_minutes       4380 non-null   float64\n",
            " 4   rating x production   4380 non-null   float64\n",
            " 5   director_name         4380 non-null   object \n",
            " 6   director_professions  4380 non-null   object \n",
            " 7   director_birthYear    4380 non-null   object \n",
            " 8   director_deathYear    4380 non-null   object \n",
            " 9   movie_averageRating   4380 non-null   float64\n",
            " 10  movie_numerOfVotes    4380 non-null   float64\n",
            " 11  approval_Index        4380 non-null   float64\n",
            " 12  Production budget $   4380 non-null   int64  \n",
            " 13  Domestic gross $      4380 non-null   int64  \n",
            " 14  Worldwide gross $     4380 non-null   int64  \n",
            "dtypes: float64(5), int64(4), object(6)\n",
            "memory usage: 513.4+ KB\n"
          ]
        }
      ]
    },
    {
      "cell_type": "markdown",
      "source": [
        "## Training the model\n",
        "\n",
        "We are using scikit learn library to train the model. Before training the data\n",
        "## variable scaling\n",
        "we are scaling the vairables using Robust scaler as there are potential outliers in the data which are needed to be handled precisely for better result.\n",
        "## Adding polynomial\n",
        "Added polynomial of degree 2 to the data to make model perfrom better and restrainig model form underfitting."
      ],
      "metadata": {
        "id": "KEPnrIj4MPEA"
      }
    },
    {
      "cell_type": "code",
      "source": [
        "import pandas as pd\n",
        "from sklearn.model_selection import train_test_split\n",
        "from sklearn.linear_model import LinearRegression\n",
        "from sklearn.preprocessing import RobustScaler , PolynomialFeatures\n",
        "from sklearn import metrics\n",
        "import matplotlib.pyplot as plt\n",
        "\n",
        "# Assuming df is your DataFrame\n",
        "# X and Y are the variables for which you want to perform linear regression\n",
        "\n",
        "# Extract the independent variable(s) X and the dependent variable Y\n",
        "# Assuming \"Production budget $\" and \"Worldwide gross $\" are columns in your DataFrame df\n",
        "X = df[['Production budget $', \"genres\" , 'movie_averageRating' , 'rating x production']]\n",
        "Y = df['Worldwide gross $']\n",
        "\n",
        "scaler = RobustScaler()\n",
        "X = scaler.fit_transform(X)\n",
        "\n",
        "\n",
        "def getDegree (CV , Train ):\n",
        "  n = CV.shape\n",
        "  min = float('-inf')\n",
        "  for i in range(n):\n",
        "    val = CV[i] - Train[i]\n",
        "    if val < min:\n",
        "      degree = i+1\n",
        "      min = val\n",
        "\n",
        "  return degree\n",
        "\n",
        "# Split the data into training and testing sets\n",
        "maxDegree = 3\n",
        "\n",
        "errCV = np.zeros(maxDegree)\n",
        "errTrain = np.zeros(maxDegree)\n",
        "\n",
        "for dg in range(maxDegree):\n",
        "  poly = PolynomialFeatures(degree= dg + 1)\n",
        "  X = poly.fit_transform(X)\n",
        "\n",
        "  X_train, X_val , Y_train, Y_val = train_test_split(X, Y, test_size=0.3)\n",
        "\n",
        "\n",
        "  model = LinearRegression()\n",
        "\n",
        "  # Fit the model on the training set\n",
        "  model.fit(X_train, Y_train)\n",
        "\n",
        "  # Make predictions on the test set\n",
        "  Y_pred = model.predict(X_train)\n",
        "  Ypcv= model.predict(X_val)\n",
        "  mseT = metrics.mean_squared_error(Y_train, Y_pred)\n",
        "  mseCV = metrics.mean_squared_error(Y_val, Ypcv)\n",
        "\n",
        "  print(mseT , mseCV , dg+1)\n",
        "\n",
        "  errTrain[dg] += mseT\n",
        "  errCV[dg] += mseCV"
      ],
      "metadata": {
        "colab": {
          "base_uri": "https://localhost:8080/"
        },
        "id": "79lkg_DBg_Lw",
        "outputId": "ef1b428c-98f4-42a1-f9fc-449d05cf4142"
      },
      "execution_count": 41,
      "outputs": [
        {
          "output_type": "stream",
          "name": "stdout",
          "text": [
            "1.5545506172587914e+16 1.4002136489349652e+16 1\n",
            "1.3214926949397984e+16 1.722979331610157e+16 2\n",
            "1.1347686397406918e+16 1.0264198689981466e+18 3\n"
          ]
        }
      ]
    },
    {
      "cell_type": "code",
      "source": [
        "plt.plot( [1 , 2 , 3] , errCV ,  label = \"CV\")\n",
        "plt.plot([1 , 2 , 3] , errTrain , label = \"Train\")\n",
        "plt.show()"
      ],
      "metadata": {
        "colab": {
          "base_uri": "https://localhost:8080/",
          "height": 445
        },
        "id": "xrcZZk3kivut",
        "outputId": "96f3706b-12a2-46e8-c538-579b0e786137"
      },
      "execution_count": 42,
      "outputs": [
        {
          "output_type": "display_data",
          "data": {
            "text/plain": [
              "<Figure size 640x480 with 1 Axes>"
            ],
            "image/png": "[encoded data removed]"
          },
          "metadata": {}
        }
      ]
    },
    {
      "cell_type": "markdown",
      "source": [
        "Best polynomial choice is of degree 1"
      ],
      "metadata": {
        "id": "vQVjGtD6pxVe"
      }
    },
    {
      "cell_type": "code",
      "source": [
        "import numpy as np\n",
        "import pandas as pd\n",
        "from sklearn.model_selection import train_test_split\n",
        "from sklearn.linear_model import LinearRegression\n",
        "from sklearn.preprocessing import RobustScaler , PolynomialFeatures\n",
        "from sklearn import metrics\n",
        "import matplotlib.pyplot as plt\n",
        "\n",
        "# Assuming df is your DataFrame\n",
        "# X and Y are the variables for which you want to perform linear regression\n",
        "\n",
        "# Extract the independent variable(s) X and the dependent variable Y\n",
        "# Assuming \"Production budget $\" and \"Worldwide gross $\" are columns in your DataFrame df\n",
        "X = df[['Production budget $', \"genres\" , 'movie_averageRating' , 'rating x production']]\n",
        "Y = df['Worldwide gross $']\n",
        "\n",
        "scaler = RobustScaler()\n",
        "X = scaler.fit_transform(X)\n",
        "\n",
        "poly = PolynomialFeatures(degree=1)\n",
        "X = poly.fit_transform(X)\n",
        "\n",
        "# Split the data into training and testing sets\n",
        "X_train, X_test, Y_train, Y_test = train_test_split(X, Y, test_size=0.3)\n",
        "X_val, X_test, Y_val, Y_test = train_test_split(X_test, Y_test, test_size=0.5)\n",
        "\n",
        "# Create a linear regression model\n",
        "model = LinearRegression()\n",
        "\n",
        "# Fit the model on the training set\n",
        "model.fit(X_train, Y_train)\n",
        "\n",
        "# Make predictions on the test set\n",
        "Y_pred = model.predict(X_train)\n",
        "Ypcv= model.predict(X_val)\n",
        "Ypt= model.predict(X_test)\n",
        "\n",
        "# Evaluate the model using regression metrics\n",
        "print('Mean Squared Error:', metrics.mean_squared_error(Y_train, Y_pred))\n",
        "print('CV Mean Squared Error:', metrics.mean_squared_error(Y_val, Ypcv))\n",
        "print('test Mean Squared Error:', metrics.mean_squared_error(Y_test, Ypt))\n",
        "\n",
        "\n"
      ],
      "metadata": {
        "id": "jfzJPFTw7Tx2",
        "colab": {
          "base_uri": "https://localhost:8080/"
        },
        "outputId": "789bbe01-ecb6-44b1-87a9-c2012b12fded"
      },
      "execution_count": 56,
      "outputs": [
        {
          "output_type": "stream",
          "name": "stdout",
          "text": [
            "Mean Squared Error: 1.635438285396469e+16\n",
            "CV Mean Squared Error: 1.1698739418745408e+16\n",
            "test Mean Squared Error: 1.2202420085677752e+16\n"
          ]
        }
      ]
    },
    {
      "cell_type": "markdown",
      "source": [
        "This was the best result I was able to acheive after failing on neural networks, KNN,  RandomForest as they performed poor and had high variances compared to the linear regression."
      ],
      "metadata": {
        "id": "umkwjtJDNO_N"
      }
    },
    {
      "cell_type": "markdown",
      "source": [
        "## Prediction on New data\n",
        "\n",
        "Function below helps predicting the Worldwide grossing of the movies based on the new custom data."
      ],
      "metadata": {
        "id": "Fnq0_TsYOOjj"
      }
    },
    {
      "cell_type": "code",
      "source": [
        "def predictNewData(budget, ingenre, rating):\n",
        "    # Assuming genres is a list of unique genres used during training\n",
        "    genre = 0\n",
        "    # Feature encoding for genre\n",
        "    for i in ingenre:\n",
        "      genre += genres.index(i) + 1\n",
        "\n",
        "    # Create a DataFrame with the new data\n",
        "    X = pd.DataFrame([[budget, genre, rating, rating * budget]])\n",
        "\n",
        "    # Use the same scaler and polynomial features as used during training\n",
        "    X_scaled = scaler.transform(X)  # Use the same scaler instance used during training\n",
        "    X_poly = poly.transform(X_scaled)  # Use the same polynomial features instance used during training\n",
        "\n",
        "    # Make predictions\n",
        "    val = model.predict(X_poly)\n",
        "    return val"
      ],
      "metadata": {
        "id": "e7kL01vFT7Ef"
      },
      "execution_count": 57,
      "outputs": []
    },
    {
      "cell_type": "code",
      "source": [
        "predictNewData(125000000 , [\"Action\" , \"Animation\" , \"Adventure\"] , 8.6) #data based on movie Spiderman across the spiderverse (2023)\n",
        "# It grossed 700 mil $"
      ],
      "metadata": {
        "colab": {
          "base_uri": "https://localhost:8080/"
        },
        "id": "regOzL83ZVfE",
        "outputId": "17d8a21b-9361-477f-c0ca-8e86dc1738d8"
      },
      "execution_count": 61,
      "outputs": [
        {
          "output_type": "stream",
          "name": "stderr",
          "text": [
            "/usr/local/lib/python3.10/dist-packages/sklearn/base.py:439: UserWarning: X does not have valid feature names, but RobustScaler was fitted with feature names\n",
            "  warnings.warn(\n"
          ]
        },
        {
          "output_type": "execute_result",
          "data": {
            "text/plain": [
              "array([6.70568563e+08])"
            ]
          },
          "metadata": {},
          "execution_count": 61
        }
      ]
    },
    {
      "cell_type": "markdown",
      "source": [
        "## This model mostly gives near round about prediction! Although they are not 100% accurate!\n",
        "\n",
        "# Thank You"
      ],
      "metadata": {
        "id": "RCxjeBwYOkUS"
      }
    }
  ],
  "metadata": {
    "colab": {
      "provenance": [],
      "authorship_tag": "ABX9TyO0j2Einu9O3yvZnYZYu46y",
      "include_colab_link": true
    },
    "kernelspec": {
      "display_name": "Python 3",
      "name": "python3"
    },
    "language_info": {
      "name": "python"
    }
  },
  "nbformat": 4,
  "nbformat_minor": 0
}